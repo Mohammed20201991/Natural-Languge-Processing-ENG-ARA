{
 "cells": [
  {
   "cell_type": "markdown",
   "metadata": {
    "id": "eY8mOOVIOzEn"
   },
   "source": [
    "#Regular expressions \n",
    "\n",
    "- Pattern matching (search, replace)\n",
    "- Expressive power equals to regular grammars and finite nondeterministic automaton\n",
    "- Works via classical string-matching algorithms with special characters   \n",
    "(wildcards, quantifiers, etc)\n",
    "- This lab is Python-specific, but other RegEx engines work similarly\n",
    "\n",
    "A nice regex editor: [regex101.com](http://www.regex101.com)"
   ]
  },
  {
   "cell_type": "markdown",
   "metadata": {
    "id": "aRvmjAo6TO85"
   },
   "source": [
    "# [Cheatsheet of special characters](https://www.dataquest.io/blog/regex-cheatsheet/)\n",
    "\n",
    "## Basic characters\n",
    "<table style=\"border-collapse: collapse; width: 1000px;\">\n",
    "<tbody style=\"border-collapse: collapse; width: 1000px;\">\n",
    "<tr>\n",
    "<td style=\"width: 22.1812%; border-style: solid; border-color: #000000; background-color: #2d353b; text-align: center;\"><span style=\"color: #ffffff;\"><strong>Characters</strong></span></td>\n",
    "<td style=\"width: 77.8188%; border-style: solid; border-color: #000000; background-color: #2d353b; text-align: center;\"><span style=\"color: #ffffff;\"><strong>Explanation</strong></span></td>\n",
    "</tr>\n",
    "<tr>\n",
    "<td style=\"width: 22.1812%; border-style: solid; border-color: #000000; text-align: center;\"><strong>a</strong></td>\n",
    "<td style=\"width: 77.8188%; border-style: solid; border-color: #000000;\">It Matches exactly one character a.</td>\n",
    "</tr>\n",
    "<tr>\n",
    "<td style=\"width: 22.1812%; border-style: solid; border-color: #000000; text-align: center;\"><strong>ab</strong></td>\n",
    "<td style=\"width: 77.8188%; border-style: solid; border-color: #000000;\">Matches the string ab.</td>\n",
    "</tr>\n",
    "<tr>\n",
    "<td style=\"width: 22.1812%; border-style: solid; border-color: #000000; text-align: center;\"><strong>a|b</strong></td>\n",
    "<td style=\"width: 77.8188%; border-style: solid; border-color: #000000;\">Matches a or b. If a is matched, b is left.</td>\n",
    "</tr>\n",
    "<tr>\n",
    "<td style=\"width: 22.1812%; border-style: solid; border-color: #000000; text-align: center;\"><strong>$</strong></td>\n",
    "<td style=\"width: 77.8188%; border-style: solid; border-color: #000000;\">Match the end of the string.</td>\n",
    "</tr>\n",
    "<tr>\n",
    "<td style=\"width: 22.1812%; border-style: solid; border-color: #000000; text-align: center;\"><strong>i</strong></td>\n",
    "<td style=\"width: 77.8188%; border-style: solid; border-color: #000000;\">Ignore case.</td>\n",
    "</tr>\n",
    "<tr>\n",
    "<td style=\"width: 22.1812%; border-style: solid; border-color: #000000; text-align: center;\"><strong>s</strong></td>\n",
    "<td style=\"width: 77.8188%; border-style: solid; border-color: #000000;\">Matches everything, including newline as well.</td>\n",
    "</tr>\n",
    "<tr>\n",
    "<td style=\"width: 22.1812%; border-style: solid; border-color: #000000; text-align: center;\"><strong>u</strong></td>\n",
    "<td style=\"width: 77.8188%; border-style: solid; border-color: #000000;\">Matches Unicode character classes.</td>\n",
    "</tr>\n",
    "<tr>\n",
    "<td style=\"width: 22.1812%; border-style: solid; border-color: #000000; text-align: center;\"><strong>x</strong></td>\n",
    "<td style=\"width: 77.8188%; border-style: solid; border-color: #000000;\">Allow spaces and comments (Verbose).</td>\n",
    "</tr>\n",
    "<tr>\n",
    "<td style=\"width: 22.1812%; border-style: solid; border-color: #000000; text-align: center;\"><strong>^</strong></td>\n",
    "<td style=\"width: 77.8188%; border-style: solid; border-color: #000000;\">Match the start of the string.</td>\n",
    "</tr>\n",
    "<tr>\n",
    "<td style=\"width: 22.1812%; border-style: solid; border-color: #000000; text-align: center;\"><strong>.</strong></td>\n",
    "<td style=\"width: 77.8188%; border-style: solid; border-color: #000000;\">Match 0 or 1 character.</td>\n",
    "</tr>\n",
    "<tr>\n",
    "<tr>\n",
    "<td style=\"width: 22.1812%; border-style: solid; border-color: #000000; text-align: center;\"><strong>*</strong></td>\n",
    "<td style=\"width: 77.8188%; border-style: solid; border-color: #000000;\">Match 0 or more repetitions.</td>\n",
    "</tr>\n",
    "<tr>\n",
    "<td style=\"width: 22.1812%; border-style: solid; border-color: #000000; text-align: center;\"><strong>+</strong></td>\n",
    "<td style=\"width: 77.8188%; border-style: solid; border-color: #000000;\">Match one or more times.</td>\n",
    "</tr>\n",
    "<tr>\n",
    "<td style=\"width: 22.1812%; border-style: solid; border-color: #000000; text-align: center;\"><strong>?</strong></td>\n",
    "<td style=\"width: 77.8188%; border-style: solid; border-color: #000000;\">Match zero or one time.</td>\n",
    "</tr>\n",
    "<tr>\n",
    "<td style=\"width: 22.1812%; border-style: solid; border-color: #000000; text-align: center;\"><strong>{a,b}</strong></td>\n",
    "<td style=\"width: 77.8188%; border-style: solid; border-color: #000000;\">Match a to b times.</td>\n",
    "</tr>\n",
    "<tr>\n",
    "<td style=\"width: 22.1812%; border-style: solid; border-color: #000000; text-align: center;\"><strong>{a,}</strong></td>\n",
    "<td style=\"width: 77.8188%; border-style: solid; border-color: #000000;\">Match at least a time.</td>\n",
    "</tr>\n",
    "<tr>\n",
    "<td style=\"width: 22.1812%; border-style: solid; border-color: #000000; text-align: center;\"><strong>{,b}</strong></td>\n",
    "<td style=\"width: 77.8188%; border-style: solid; border-color: #000000;\">Match up to b times.</td>\n",
    "</tr>\n",
    "<tr>\n",
    "<td style=\"width: 22.1812%; border-style: solid; border-color: #000000; text-align: center;\"><strong>{a}</strong></td>\n",
    "<td style=\"width: 77.8188%; border-style: solid; border-color: #000000;\">Match exactly a times.</td>\n",
    "</tr>\n",
    "<tr>\n",
    "<td style=\"width: 22.1812%; border-style: solid; border-color: #000000; text-align: center;\"><strong>{a,b}?</strong></td>\n",
    "<td style=\"width: 77.8188%; border-style: solid; border-color: #000000;\">Matches the expression to its left times, and ignores b.</td>\n",
    "</tr>\n",
    "</tbody>\n",
    "</table>\n",
    "\n",
    "## Character classes\n",
    "\n",
    "\n",
    "<table style=\"border-collapse: collapse; width: 100%;\">\n",
    "<tbody>\n",
    "<tr>\n",
    "<td style=\"width: 22.5722%; border-style: solid; border-color: #000000; background-color: #2d353b; text-align: center;\"><span style=\"color: #ffffff;\"><strong>Class</strong></span></td>\n",
    "<td style=\"width: 77.4278%; border-style: solid; border-color: #000000; background-color: #2d353b; text-align: center;\"><span style=\"color: #ffffff;\"><strong>Explanation</strong></span></td>\n",
    "</tr>\n",
    "<tr>\n",
    "<td style=\"width: 22.5722%; border-style: solid; border-color: #000000; text-align: center;\"><strong>\\d</strong></td>\n",
    "<td style=\"width: 77.4278%; border-style: solid; border-color: #000000;\">Matches digits from 0-9.</td>\n",
    "</tr>\n",
    "<tr>\n",
    "<td style=\"width: 22.5722%; border-style: solid; border-color: #000000; text-align: center;\"><strong>\\D</strong></td>\n",
    "<td style=\"width: 77.4278%; border-style: solid; border-color: #000000;\">Matches any non-digits.</td>\n",
    "</tr>\n",
    "<tr>\n",
    "<td style=\"width: 22.5722%; border-style: solid; border-color: #000000; text-align: center;\"><strong>\\w</strong></td>\n",
    "<td style=\"width: 77.4278%; border-style: solid; border-color: #000000;\">Matches alphanumeric characters including, a-z, A-Z, 0-9, and underscore(_).</td>\n",
    "</tr>\n",
    "<tr>\n",
    "<td style=\"width: 22.5722%; border-style: solid; border-color: #000000; text-align: center;\"><strong>\\W</strong></td>\n",
    "<td style=\"width: 77.4278%; border-style: solid; border-color: #000000;\">Matches any character, not a Unicode word character.</td>\n",
    "</tr>\n",
    "<tr>\n",
    "<td style=\"width: 22.5722%; border-style: solid; border-color: #000000; text-align: center;\"><strong>\\s</strong></td>\n",
    "<td style=\"width: 77.4278%; border-style: solid; border-color: #000000;\">Matches whitespace characters.</td>\n",
    "</tr>\n",
    "<tr>\n",
    "<td style=\"width: 22.5722%; border-style: solid; border-color: #000000; text-align: center;\"><strong>\\S</strong></td>\n",
    "<td style=\"width: 77.4278%; border-style: solid; border-color: #000000;\">Matches non-whitespace characters.</td>\n",
    "</tr>\n",
    "<tr>\n",
    "<td style=\"width: 22.5722%; border-style: solid; border-color: #000000; text-align: center;\"><strong>\\n</strong></td>\n",
    "<td style=\"width: 77.4278%; border-style: solid; border-color: #000000;\">Matches a newline character.</td>\n",
    "</tr>\n",
    "<tr>\n",
    "<td style=\"width: 22.5722%; border-style: solid; border-color: #000000; text-align: center;\"><strong>\\t</strong></td>\n",
    "<td style=\"width: 77.4278%; border-style: solid; border-color: #000000;\">Matches tab character.</td>\n",
    "</tr>\n",
    "<tr>\n",
    "<td style=\"width: 22.5722%; border-style: solid; border-color: #000000; text-align: center;\"><strong>\\b</strong></td>\n",
    "<td style=\"width: 77.4278%; border-style: solid; border-color: #000000;\">Matches empty string, only at the beginning or end of a word.</td>\n",
    "</tr>\n",
    "<tr>\n",
    "<td style=\"width: 22.5722%; border-style: solid; border-color: #000000; text-align: center;\"><strong>\\Z</strong></td>\n",
    "<td style=\"width: 77.4278%; border-style: solid; border-color: #000000;\">Matches the expression to its left at the absolute end of a string, whether in single or multi-line mode.</td>\n",
    "</tr>\n",
    "<tr>\n",
    "<td style=\"width: 22.5722%; border-style: solid; border-color: #000000; text-align: center;\"><strong>\\A</strong></td>\n",
    "<td style=\"width: 77.4278%; border-style: solid; border-color: #000000;\">Matches the expression to its right at the absolute start of a string, whether in single or multi-line mode.</td>\n",
    "</tr>\n",
    "</tbody>\n",
    "</table>\n",
    "\n",
    "## Character sets\n",
    "\n",
    "<table style=\"border-collapse: collapse; width: 100%; height: 240px;\">\n",
    "<tbody>\n",
    "<tr style=\"height: 24px;\">\n",
    "<td style=\"width: 21.3911%; border-style: solid; border-color: #000000; background-color: #2d353b; text-align: center; height: 24px;\"><span style=\"color: #ffffff;\"><strong>Sets</strong></span></td>\n",
    "<td style=\"width: 78.6089%; border-style: solid; border-color: #000000; background-color: #2d353b; text-align: center; height: 24px;\"><span style=\"color: #ffffff;\"><strong>Explanation</strong></span></td>\n",
    "</tr>\n",
    "<tr style=\"height: 24px;\">\n",
    "<td style=\"width: 21.3911%; border-style: solid; border-color: #000000; height: 24px; text-align: center;\"><strong>[a-z]</strong></td>\n",
    "<td style=\"width: 78.6089%; border-style: solid; border-color: #000000; height: 24px;\">Match any lowercase ASCII letter.</td>\n",
    "</tr>\n",
    "<tr style=\"height: 24px;\">\n",
    "<td style=\"width: 21.3911%; border-style: solid; border-color: #000000; height: 24px; text-align: center;\"><strong>[xyz]</strong></td>\n",
    "<td style=\"width: 78.6089%; border-style: solid; border-color: #000000; height: 24px;\">Matches either x, y, or z.</td>\n",
    "</tr>\n",
    "<tr style=\"height: 24px;\">\n",
    "<td style=\"width: 21.3911%; border-style: solid; border-color: #000000; height: 24px; text-align: center;\"><strong>[x\\-z]</strong></td>\n",
    "<td style=\"width: 78.6089%; border-style: solid; border-color: #000000; height: 24px;\">Matches x, – or z.</td>\n",
    "</tr>\n",
    "<tr style=\"height: 24px;\">\n",
    "<td style=\"width: 21.3911%; border-style: solid; border-color: #000000; height: 24px; text-align: center;\"><strong>[-x]</strong></td>\n",
    "<td style=\"width: 78.6089%; border-style: solid; border-color: #000000; height: 24px;\">Matches – or x.</td>\n",
    "</tr>\n",
    "<tr style=\"height: 24px;\">\n",
    "<td style=\"width: 21.3911%; border-style: solid; border-color: #000000; height: 24px; text-align: center;\"><strong>[a-d0-9]</strong></td>\n",
    "<td style=\"width: 78.6089%; border-style: solid; border-color: #000000; height: 24px;\">Matches characters from a to d or from 0 to 9.</td>\n",
    "</tr>\n",
    "<tr style=\"height: 24px;\">\n",
    "<td style=\"width: 21.3911%; border-style: solid; border-color: #000000; height: 24px; text-align: center;\"><strong>[^xy4]</strong></td>\n",
    "<td style=\"width: 78.6089%; border-style: solid; border-color: #000000; height: 24px;\">Matches characters that are not x, y, or 4.</td>\n",
    "</tr>\n",
    "<tr style=\"height: 24px;\">\n",
    "<td style=\"width: 21.3911%; border-style: solid; border-color: #000000; height: 24px; text-align: center;\"><strong>[(+*)]</strong></td>\n",
    "<td style=\"width: 78.6089%; border-style: solid; border-color: #000000; height: 24px;\">Matches (, +, * or ).</td>\n",
    "</tr>\n",
    "<tr style=\"height: 24px;\">\n",
    "<td style=\"width: 21.3911%; border-style: solid; border-color: #000000; height: 24px; text-align: center;\"><strong>[0-5][0-9]</strong></td>\n",
    "<td style=\"width: 78.6089%; border-style: solid; border-color: #000000; height: 24px;\">Matches for any two-digit numbers from 00 and 59.</td>\n",
    "</tr>\n",
    "<tr style=\"height: 24px;\">\n",
    "<td style=\"width: 21.3911%; border-style: solid; border-color: #000000; height: 24px; text-align: center;\"><strong>[^ab5]</strong></td>\n",
    "<td style=\"width: 78.6089%; border-style: solid; border-color: #000000; height: 24px;\">Adding ^ excludes any character in the set. Here, it matches characters that are not a, b, or 5.</td>\n",
    "</tr>\n",
    "</tbody>\n",
    "</table>"
   ]
  },
  {
   "cell_type": "markdown",
   "metadata": {},
   "source": [
    "# Regular Expressions are used to match string patterns.\n"
   ]
  },
  {
   "cell_type": "markdown",
   "metadata": {},
   "source": [
    "-They are very powerful\n",
    "\n",
    "-If you want to pull out a string pattern RE can do it\n",
    "\n",
    "-They may seem intimidating  "
   ]
  },
  {
   "cell_type": "markdown",
   "metadata": {},
   "source": [
    "# Things to note"
   ]
  },
  {
   "cell_type": "raw",
   "metadata": {},
   "source": [
    "#Python uses back slash to indicate special characters \n",
    "'\\n'  Backslash followed by n denotes a newline\n",
    "'\\t'  denotes a tab"
   ]
  },
  {
   "cell_type": "markdown",
   "metadata": {},
   "source": [
    "'r' expression, that voids the Python's special characters\n",
    "\n",
    " r'\\n' means it's a raw string with two characters 'n' and '\\' as \n",
    "opposed to just one special character' "
   ]
  },
  {
   "cell_type": "code",
   "execution_count": 2,
   "metadata": {},
   "outputs": [],
   "source": [
    "# examples of this dont mind the python syntax\n",
    "import re\n",
    "re.search('n', '\\n')  #first item is pattern, second item is string"
   ]
  },
  {
   "cell_type": "code",
   "execution_count": 3,
   "metadata": {},
   "outputs": [
    {
     "data": {
      "text/plain": [
       "<re.Match object; span=(1, 2), match='n'>"
      ]
     },
     "execution_count": 3,
     "metadata": {},
     "output_type": "execute_result"
    }
   ],
   "source": [
    "#two ways to handle this one way is to use \\ for every backslash\n",
    "import re\n",
    "re.search('n', '\\\\n')   "
   ]
  },
  {
   "cell_type": "code",
   "execution_count": 4,
   "metadata": {},
   "outputs": [],
   "source": [
    "re.search('n',  '\\n\\n\\n\\n\\n\\n\\n\\n\\n\\n\\n\\n\\n\\n\\n')  #not the best way if we\n",
    "                                                   #have too many \\s"
   ]
  },
  {
   "cell_type": "code",
   "execution_count": 5,
   "metadata": {},
   "outputs": [
    {
     "data": {
      "text/plain": [
       "<re.Match object; span=(1, 2), match='n'>"
      ]
     },
     "execution_count": 5,
     "metadata": {},
     "output_type": "execute_result"
    }
   ],
   "source": [
    "re.search('n',  r'\\n\\n\\n\\n\\n\\n\\n\\n\\n\\n\\n\\n\\n\\n\\n')    #r converts to raw string"
   ]
  },
  {
   "cell_type": "code",
   "execution_count": 6,
   "metadata": {},
   "outputs": [
    {
     "data": {
      "text/plain": [
       "<re.Match object; span=(0, 1), match='\\n'>"
      ]
     },
     "execution_count": 6,
     "metadata": {},
     "output_type": "execute_result"
    }
   ],
   "source": [
    "#there are some nuances that you should be aware of\n",
    "#regular expressions has its own special characters as well\n",
    "# regex with '\\n' and r'\\n' both look for newline\n",
    "\n",
    "re.search('\\n',  '\\n\\n\\n\\n\\n\\n\\n\\n\\n\\n\\n\\n\\n\\n\\n')  "
   ]
  },
  {
   "cell_type": "code",
   "execution_count": 7,
   "metadata": {},
   "outputs": [
    {
     "data": {
      "text/plain": [
       "<re.Match object; span=(0, 1), match='\\n'>"
      ]
     },
     "execution_count": 7,
     "metadata": {},
     "output_type": "execute_result"
    }
   ],
   "source": [
    "re.search(r'\\n',  '\\n\\n')     #this works as well because r'\\n' also looks\n",
    "                                #for new line"
   ]
  },
  {
   "cell_type": "code",
   "execution_count": 10,
   "metadata": {},
   "outputs": [
    {
     "name": "stdout",
     "output_type": "stream",
     "text": [
      "None\n"
     ]
    }
   ],
   "source": [
    "#doesn't work because sting doesn't use newline and r'\\n' looks for newline\n",
    "print(re.search(r'\\n',  r'\\n\\n'))    #r"
   ]
  },
  {
   "cell_type": "markdown",
   "metadata": {},
   "source": [
    "# MATCH and SEARCH EXAMPLES"
   ]
  },
  {
   "cell_type": "markdown",
   "metadata": {},
   "source": [
    "REs common methods - Match and Search"
   ]
  },
  {
   "cell_type": "raw",
   "metadata": {},
   "source": [
    "re.search(pattern, string, flags)  # searches anywhere in the sentence\n",
    "                                    #flags special options"
   ]
  },
  {
   "cell_type": "code",
   "execution_count": 13,
   "metadata": {},
   "outputs": [
    {
     "data": {
      "text/plain": [
       "<re.Match object; span=(2, 3), match='c'>"
      ]
     },
     "execution_count": 13,
     "metadata": {},
     "output_type": "execute_result"
    }
   ],
   "source": [
    "re.search(\"c\", \"abcdef\")   #searches anywhere"
   ]
  },
  {
   "cell_type": "raw",
   "metadata": {},
   "source": [
    "re.match(pattern, string, flags) # only beginning of the string"
   ]
  },
  {
   "cell_type": "code",
   "execution_count": 16,
   "metadata": {},
   "outputs": [],
   "source": [
    "re.match(\"c\", \"abcdef\")  #returns none because only looks at the start of string"
   ]
  },
  {
   "cell_type": "code",
   "execution_count": 17,
   "metadata": {},
   "outputs": [
    {
     "data": {
      "text/plain": [
       "False"
      ]
     },
     "execution_count": 17,
     "metadata": {},
     "output_type": "execute_result"
    }
   ],
   "source": [
    "bool(re.match(\"c\", \"abcdef\"))  # no match returns boolean false"
   ]
  },
  {
   "cell_type": "code",
   "execution_count": 18,
   "metadata": {},
   "outputs": [
    {
     "data": {
      "text/plain": [
       "True"
      ]
     },
     "execution_count": 18,
     "metadata": {},
     "output_type": "execute_result"
    }
   ],
   "source": [
    "bool(re.match(\"a\", \"abcdef\"))  #match returns true"
   ]
  },
  {
   "cell_type": "code",
   "execution_count": 21,
   "metadata": {},
   "outputs": [
    {
     "data": {
      "text/plain": [
       "<re.Match object; span=(2, 3), match='c'>"
      ]
     },
     "execution_count": 21,
     "metadata": {},
     "output_type": "execute_result"
    }
   ],
   "source": [
    "re.search(\"c\", \"abcdef\")  #tells you where it matched first and only first"
   ]
  },
  {
   "cell_type": "code",
   "execution_count": 22,
   "metadata": {},
   "outputs": [
    {
     "data": {
      "text/plain": [
       "<re.Match object; span=(2, 3), match='c'>"
      ]
     },
     "execution_count": 22,
     "metadata": {},
     "output_type": "execute_result"
    }
   ],
   "source": [
    "re.search(\"c\", \"abcdefc\")  #multiple 'c's first instance only"
   ]
  },
  {
   "cell_type": "code",
   "execution_count": 23,
   "metadata": {},
   "outputs": [
    {
     "data": {
      "text/plain": [
       "<re.Match object; span=(6, 7), match='c'>"
      ]
     },
     "execution_count": 23,
     "metadata": {},
     "output_type": "execute_result"
    }
   ],
   "source": [
    "re.search(\"c\", \"abdef\\nc\") #multiline works with search"
   ]
  },
  {
   "cell_type": "code",
   "execution_count": 24,
   "metadata": {},
   "outputs": [],
   "source": [
    "re.match(\"c\", \"abcdef\\nc\")   #match doesn't work with newline"
   ]
  },
  {
   "cell_type": "markdown",
   "metadata": {},
   "source": [
    "# Printing the output of match and search"
   ]
  },
  {
   "cell_type": "code",
   "execution_count": 25,
   "metadata": {},
   "outputs": [
    {
     "data": {
      "text/plain": [
       "<re.Match object; span=(0, 1), match='a'>"
      ]
     },
     "execution_count": 25,
     "metadata": {},
     "output_type": "execute_result"
    }
   ],
   "source": [
    "(re.match(\"a\", \"abcdef\"))   #match objects"
   ]
  },
  {
   "cell_type": "code",
   "execution_count": 26,
   "metadata": {},
   "outputs": [
    {
     "data": {
      "text/plain": [
       "'a'"
      ]
     },
     "execution_count": 26,
     "metadata": {},
     "output_type": "execute_result"
    }
   ],
   "source": [
    "re.match(\"a\", \"abcdef\").group()  #string output #defautlt value is 0"
   ]
  },
  {
   "cell_type": "code",
   "execution_count": 27,
   "metadata": {},
   "outputs": [
    {
     "data": {
      "text/plain": [
       "'a'"
      ]
     },
     "execution_count": 27,
     "metadata": {},
     "output_type": "execute_result"
    }
   ],
   "source": [
    "re.match(\"a\", \"abcdef\").group(0)  "
   ]
  },
  {
   "cell_type": "code",
   "execution_count": 28,
   "metadata": {},
   "outputs": [
    {
     "data": {
      "text/plain": [
       "'n'"
      ]
     },
     "execution_count": 28,
     "metadata": {},
     "output_type": "execute_result"
    }
   ],
   "source": [
    "re.search(\"n\", \"abcdefnc abcd\").group()"
   ]
  },
  {
   "cell_type": "code",
   "execution_count": 29,
   "metadata": {},
   "outputs": [
    {
     "data": {
      "text/plain": [
       "'nc abcd'"
      ]
     },
     "execution_count": 29,
     "metadata": {},
     "output_type": "execute_result"
    }
   ],
   "source": [
    "re.search('n.+', \"abcdefnc abcd\").group()  #pull out different types of strings \n",
    "                                            #depending on the wildcards you use"
   ]
  },
  {
   "cell_type": "code",
   "execution_count": 30,
   "metadata": {},
   "outputs": [
    {
     "data": {
      "text/plain": [
       "6"
      ]
     },
     "execution_count": 30,
     "metadata": {},
     "output_type": "execute_result"
    }
   ],
   "source": [
    "re.search(\"c\", \"abdef\\nc\").start()"
   ]
  },
  {
   "cell_type": "code",
   "execution_count": 31,
   "metadata": {},
   "outputs": [
    {
     "data": {
      "text/plain": [
       "7"
      ]
     },
     "execution_count": 31,
     "metadata": {},
     "output_type": "execute_result"
    }
   ],
   "source": [
    "re.search(\"c\", \"abdef\\nc\").end()"
   ]
  },
  {
   "cell_type": "markdown",
   "metadata": {},
   "source": [
    "# Literal matching"
   ]
  },
  {
   "cell_type": "code",
   "execution_count": 34,
   "metadata": {},
   "outputs": [],
   "source": [
    "re.search('na',\"abcdefnc abcd\" )  #doesn't work, because they are ordered"
   ]
  },
  {
   "cell_type": "code",
   "execution_count": 36,
   "metadata": {},
   "outputs": [
    {
     "data": {
      "text/plain": [
       "<re.Match object; span=(0, 1), match='a'>"
      ]
     },
     "execution_count": 36,
     "metadata": {},
     "output_type": "execute_result"
    }
   ],
   "source": [
    "re.search('n|a',\"abcdefnc abcda\" )  #n or a"
   ]
  },
  {
   "cell_type": "code",
   "execution_count": 37,
   "metadata": {},
   "outputs": [
    {
     "data": {
      "text/plain": [
       "<re.Match object; span=(5, 6), match='n'>"
      ]
     },
     "execution_count": 37,
     "metadata": {},
     "output_type": "execute_result"
    }
   ],
   "source": [
    " re.search('n|a',\"bcdefnc abcda\" )  #replaced the a with b, first match is an n"
   ]
  },
  {
   "cell_type": "code",
   "execution_count": 38,
   "metadata": {},
   "outputs": [
    {
     "data": {
      "text/plain": [
       "<re.Match object; span=(0, 1), match='b'>"
      ]
     },
     "execution_count": 38,
     "metadata": {},
     "output_type": "execute_result"
    }
   ],
   "source": [
    "re.search('n|a|b',\"bcdefnc abcda\" ) # as many OR expressions"
   ]
  },
  {
   "cell_type": "markdown",
   "metadata": {},
   "source": [
    "# re.findall"
   ]
  },
  {
   "cell_type": "code",
   "execution_count": 39,
   "metadata": {},
   "outputs": [
    {
     "data": {
      "text/plain": [
       "['n', 'a', 'a']"
      ]
     },
     "execution_count": 39,
     "metadata": {},
     "output_type": "execute_result"
    }
   ],
   "source": [
    "re.findall('n|a',\"bcdefnc abcda\" ) #find all pulls out all instances"
   ]
  },
  {
   "cell_type": "code",
   "execution_count": 40,
   "metadata": {},
   "outputs": [
    {
     "data": {
      "text/plain": [
       "<re.Match object; span=(0, 4), match='abcd'>"
      ]
     },
     "execution_count": 40,
     "metadata": {},
     "output_type": "execute_result"
    }
   ],
   "source": [
    "re.search('abcd',\"abcdefnc abcd\" ) #multiple characters - literal search"
   ]
  },
  {
   "cell_type": "code",
   "execution_count": 41,
   "metadata": {},
   "outputs": [
    {
     "data": {
      "text/plain": [
       "['abcd', 'abcd']"
      ]
     },
     "execution_count": 41,
     "metadata": {},
     "output_type": "execute_result"
    }
   ],
   "source": [
    "re.findall('abcd',\"abcdefnc abcd\" ) "
   ]
  },
  {
   "cell_type": "markdown",
   "metadata": {},
   "source": [
    "# Anothor examples "
   ]
  },
  {
   "cell_type": "code",
   "execution_count": 43,
   "metadata": {},
   "outputs": [
    {
     "name": "stdout",
     "output_type": "stream",
     "text": [
      "There (0, 5)\n",
      "<re.Match object; span=(0, 5), match='There'>\n"
     ]
    }
   ],
   "source": [
    "text = \"There is an apple in this sentence.\"\n",
    "\n",
    "#Bound to string start, returns Match object\n",
    "found = re.match(r\"There\",text)\n",
    "\n",
    "print(found.group(), found.span())\n",
    "print(found)"
   ]
  },
  {
   "cell_type": "code",
   "execution_count": 44,
   "metadata": {},
   "outputs": [
    {
     "name": "stdout",
     "output_type": "stream",
     "text": [
      "None\n"
     ]
    }
   ],
   "source": [
    "found = re.match(r\"apple\",text)\n",
    "print(found)"
   ]
  },
  {
   "cell_type": "code",
   "execution_count": 45,
   "metadata": {},
   "outputs": [
    {
     "name": "stdout",
     "output_type": "stream",
     "text": [
      "apple (12, 17)\n"
     ]
    }
   ],
   "source": [
    "#Use search for sub-string matching\n",
    "found = re.search(r\"apple\", text)\n",
    "print(found.group(), found.span())"
   ]
  },
  {
   "cell_type": "code",
   "execution_count": 46,
   "metadata": {},
   "outputs": [
    {
     "name": "stdout",
     "output_type": "stream",
     "text": [
      "i (6, 7)\n"
     ]
    }
   ],
   "source": [
    "#Returns first match only\n",
    "found = re.search(r\"i\", text)\n",
    "\n",
    "print(found.group(), found.span())"
   ]
  },
  {
   "cell_type": "code",
   "execution_count": 47,
   "metadata": {},
   "outputs": [
    {
     "name": "stdout",
     "output_type": "stream",
     "text": [
      "['i', 'i', 'i']\n"
     ]
    }
   ],
   "source": [
    "#Finding all NON-OVERLAPPING matches\n",
    "found = re.findall(r\"i\", text)\n",
    "\n",
    "#Returns list of matches\n",
    "print(found)"
   ]
  },
  {
   "cell_type": "markdown",
   "metadata": {},
   "source": [
    "Match all words starting with \"a\"\n",
    "\n",
    "- wordstart: **\\b**   \n",
    "- character \"a\" after it: **a**   \n",
    "- any alphanumeric character is allowed after it: **\\w**   \n",
    "- for 0 to infinite repetitions: **\\***   \n",
    "- the whole word is required, thus we match the word end explicitly: **\\b**\n"
   ]
  },
  {
   "cell_type": "code",
   "execution_count": 49,
   "metadata": {},
   "outputs": [
    {
     "name": "stdout",
     "output_type": "stream",
     "text": [
      "['an', 'apple']\n"
     ]
    }
   ],
   "source": [
    "#More useful with character classes\n",
    "found = re.findall(r\"\\ba\\w*\\b\", text)\n",
    "#Returns a list of strings\n",
    "print(found)"
   ]
  },
  {
   "cell_type": "code",
   "execution_count": 50,
   "metadata": {},
   "outputs": [
    {
     "name": "stdout",
     "output_type": "stream",
     "text": [
      "<re.Match object; span=(9, 11), match='an'>\n",
      "<re.Match object; span=(12, 17), match='apple'>\n"
     ]
    }
   ],
   "source": [
    "#If we need an iterator of match objects, not just the strings\n",
    "found = re.finditer(r\"\\ba\\w*\\b\", text)\n",
    "#Returns list of matches\n",
    "for match in found:\n",
    "  print(match)"
   ]
  },
  {
   "cell_type": "markdown",
   "metadata": {},
   "source": [
    "### Split text at every two letter word (exclude the whitespaces too)\n",
    "\n",
    "- Word start and end with any number of whitespaces included: **\\s\\*\\b** and **\\b\\s\\***\n",
    "- Quantifying exatly two word characters in between: **\\w\\{2\\}**"
   ]
  },
  {
   "cell_type": "code",
   "execution_count": 51,
   "metadata": {},
   "outputs": [
    {
     "name": "stdout",
     "output_type": "stream",
     "text": [
      "['There', '', 'apple', 'this sentence.']\n"
     ]
    }
   ],
   "source": [
    "split_text = re.split(r\"\\s*\\b\\w{2}\\b\\s*\", text)\n",
    "print(split_text)"
   ]
  },
  {
   "cell_type": "markdown",
   "metadata": {},
   "source": [
    "### Find dates\n",
    "\n",
    "Using groups in mm/dd/yyyy format\n",
    "\n",
    "- Month descriptor can either start with 1 or 0\n",
    " - If starts with 1 it can either end to 0, 1 or 2\n",
    " - If starts with zero it can be any digit but 0\n",
    "- Day can start with 3, 2, 1, 0\n",
    " - If starts with 3 it can end in 0 or 1\n",
    " - If starts with 1 or 2 can end in any digit\n",
    " - If starts with 0 it can end any digit but 0\n",
    "- Year can be any 4 long digit sequence"
   ]
  },
  {
   "cell_type": "code",
   "execution_count": 52,
   "metadata": {},
   "outputs": [
    {
     "data": {
      "text/plain": [
       "[('10', '04', '2021')]"
      ]
     },
     "execution_count": 52,
     "metadata": {},
     "output_type": "execute_result"
    }
   ],
   "source": [
    "def findDate(text):\n",
    "  line=re.findall('(1[0-2]|0[1-9])/(3[01]|[12][0-9]|0[1-9])/([0-9]{4})',text)     \n",
    "  return line\n",
    "\n",
    "findDate('Todays date is 10/04/2021')"
   ]
  },
  {
   "cell_type": "markdown",
   "metadata": {},
   "source": [
    "## Grouping/Assertion\n",
    "**( )** | Matches the expression inside the parentheses and groups it.\n",
    "\n",
    "**(? )** | Inside parentheses like this, ? acts as an extension notation.\n",
    "\n",
    "**(?aiLmsux)** | Here, a, i, L, m, s, u, and x are flags:\n",
    "\n",
    "**a** — Matches ASCII only   \n",
    "**i** — Ignore case   \n",
    "**L** — Locale dependent   \n",
    "**m** — Multi-line   \n",
    "**s** — Matches all   \n",
    "**u** — Matches unicode   \n",
    "**x** — Verbose   \n",
    "\n",
    "**(?FLAGS:A)** | Matches the expression as represented by A. Using a flag set represented by FLAGS.\n",
    "\n",
    "**(?#...)** | A comment.\n",
    "\n",
    "**A(?=B)** | Lookahead assertion. This matches the expression A only if it is followed by B.\n",
    "\n",
    "**A(?!B)** | Negative lookahead assertion. This matches the expression A only if it is not followed by B.\n",
    "\n",
    "**(?<=B)A** | Positive lookbehind assertion. This matches the expression A only if B is immediately to its left. This can only matched fixed length expressions.\n",
    "\n",
    "**(?<!B)A** | Negative lookbehind assertion. This matches the expression A only if B is not immediately to its left. This can only matched fixed length expressions."
   ]
  },
  {
   "cell_type": "markdown",
   "metadata": {},
   "source": [
    "### Change numbered filename to IMG\\<num\\> if the extension is .jpg or .png\n",
    "If no number is present skip\n",
    "\n",
    "- From the string start: **^**   \n",
    "- We match the group of characters which are non-digit characters but word characters   \n",
    "(non-\"non-word\" characters): **[^\\d\\W]**\n",
    "- We match at least one of those: **+**\n",
    "- Assert that after our replaceable name comes at least one digit: **(?=\\d+**\n",
    "- And an extension of .png and .jpg where we ignore the case: **((?i:.png)|(?i:.jpg)))**\n"
   ]
  },
  {
   "cell_type": "code",
   "execution_count": 53,
   "metadata": {},
   "outputs": [
    {
     "name": "stdout",
     "output_type": "stream",
     "text": [
      "IMG1.jpg\n",
      "IMG2.PNG\n",
      "IMG3.png\n",
      "summer4.exe\n",
      "nlphomework.pdf\n",
      "IMG5.JPG\n"
     ]
    }
   ],
   "source": [
    "fnames = [\"summer1.jpg\", \"summer2.PNG\", \"vacation3.png\", \"summer4.exe\", \"nlphomework.pdf\", \"vacation5.JPG\"]\n",
    "\n",
    "for f in fnames:\n",
    "  print(re.sub(r\"^[^\\d\\W]+(?=\\d+((?i:.png)|(?i:.jpg)))\",\"IMG\",f))"
   ]
  },
  {
   "cell_type": "markdown",
   "metadata": {},
   "source": [
    "# Find social media tags"
   ]
  },
  {
   "cell_type": "code",
   "execution_count": 54,
   "metadata": {},
   "outputs": [
    {
     "data": {
      "text/plain": [
       "['football', 'FIFA']"
      ]
     },
     "execution_count": 54,
     "metadata": {},
     "output_type": "execute_result"
    }
   ],
   "source": [
    "def findHash(text):  \n",
    "    line=re.findall(\"(?<=#)\\w+\",text)     \n",
    "    return line\n",
    "\n",
    "findHash(\"I love football. #football #FIFA\")"
   ]
  },
  {
   "cell_type": "markdown",
   "metadata": {},
   "source": [
    "## Reusing patterns\n",
    "\n",
    "What does this match? **[\\w.-]+@[\\w.-]+**"
   ]
  },
  {
   "cell_type": "code",
   "execution_count": 57,
   "metadata": {},
   "outputs": [
    {
     "name": "stdout",
     "output_type": "stream",
     "text": [
      "re.compile('[\\\\w.-]+@[\\\\w.-]+')\n",
      "['info@myaddress.com']\n",
      "This is my secret email address: **SECRET EMAIL**\n"
     ]
    }
   ],
   "source": [
    "pattern = re.compile(\"[\\w.-]+@[\\w.-]+\")\n",
    "print(pattern)\n",
    "print(pattern.findall(\"This is my secret email address: info@myaddress.com\"))\n",
    "\n",
    "#Counter-intuitive, replacment string comes first\n",
    "print(pattern.sub(\"**SECRET EMAIL**\",\"This is my secret email address: info@myaddress.com\"))"
   ]
  },
  {
   "cell_type": "markdown",
   "metadata": {},
   "source": [
    "# Finding URLs"
   ]
  },
  {
   "cell_type": "code",
   "execution_count": 58,
   "metadata": {},
   "outputs": [
    {
     "data": {
      "text/plain": [
       "['http://404notfound.com/?isnotvalid=True&id=2', 'http://127.12.21.32:5342']"
      ]
     },
     "execution_count": 58,
     "metadata": {},
     "output_type": "execute_result"
    }
   ],
   "source": [
    "def find_url(string):\n",
    "    text = re.findall(r'http[s]?:\\/\\/(?:\\w|[$-_@.&+!*(),])+',string)\n",
    "    #convert return value from list to string    \n",
    "    return text\n",
    "\n",
    "find_url(\"Could you find http://404notfound.com/?isnotvalid=True&id=2 and this http://127.12.21.32:5342 please?\")"
   ]
  },
  {
   "cell_type": "code",
   "execution_count": null,
   "metadata": {},
   "outputs": [],
   "source": []
  }
 ],
 "metadata": {
  "colab": {
   "collapsed_sections": [],
   "name": "Regex_empty.ipynb",
   "provenance": []
  },
  "kernelspec": {
   "display_name": "Python 3 (ipykernel)",
   "language": "python",
   "name": "python3"
  },
  "language_info": {
   "codemirror_mode": {
    "name": "ipython",
    "version": 3
   },
   "file_extension": ".py",
   "mimetype": "text/x-python",
   "name": "python",
   "nbconvert_exporter": "python",
   "pygments_lexer": "ipython3",
   "version": "3.9.7"
  }
 },
 "nbformat": 4,
 "nbformat_minor": 1
}
